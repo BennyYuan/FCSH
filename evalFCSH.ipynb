{
 "cells": [
  {
   "cell_type": "code",
   "execution_count": 1,
   "metadata": {},
   "outputs": [],
   "source": [
    "import numpy as np\n",
    "import pandas as pd\n",
    "import datetime\n",
    "import matplotlib.pyplot as plt\n",
    "%matplotlib inline"
   ]
  },
  {
   "cell_type": "code",
   "execution_count": 2,
   "metadata": {},
   "outputs": [],
   "source": [
    "def load_code_and_label(path):\n",
    "    database_code = np.sign(np.load(path + \"database_code.npy\"))\n",
    "    database_labels = np.load(path + \"database_labels.npy\")\n",
    "    test_codes = np.sign(np.load(path + \"test_code.npy\"))\n",
    "    test_labels = np.load(path + \"test_labels.npy\")\n",
    "\n",
    "    return {\"database_code\": database_code, \"database_labels\": database_labels, \"test_code\": test_codes,\n",
    "            \"test_labels\": test_labels}"
   ]
  },
  {
   "cell_type": "code",
   "execution_count": 3,
   "metadata": {},
   "outputs": [],
   "source": [
    "# 计算海明距离, 输入为numpy矩阵, Q查询矩阵, DataSet被查询矩阵\n",
    "def HammingDistance(Q, DataSet):\n",
    "    codeLength = Q.shape[1]\n",
    "    hammingDis = 0.5 * (codeLength - Q.dot(DataSet.T))\n",
    "    return hammingDis"
   ]
  },
  {
   "cell_type": "code",
   "execution_count": 4,
   "metadata": {},
   "outputs": [],
   "source": [
    "# 构造相似矩阵, 输入为one-hot numpy矩阵, Q_Lable查询标签, Data_Lables被查询标签\n",
    "def similarityMatrix(Q_Lable, Data_Lables):\n",
    "    return np.sign(Q_Lable.dot(Data_Lables.T) - 0.5)"
   ]
  },
  {
   "cell_type": "code",
   "execution_count": 5,
   "metadata": {},
   "outputs": [],
   "source": [
    "# 统计TP,FN,FP,TN\n",
    "def hash_fast_TP_FN_FP_TN(Distance_M, S, hash_distance_threshold=1):\n",
    "    if (S.shape!=Distance_M.shape):\n",
    "        raise ValueError('The shape of Distance_M and S not sample!')\n",
    "    Distance_M = Distance_M * S\n",
    "    # print(Distance_M.shape)\n",
    "    \n",
    "    TP_FN = (S == 1).sum() # TP+FN\n",
    "    FN = (Distance_M > hash_distance_threshold).sum()  # FN\n",
    "    # print('*********', TP_FN, FN)\n",
    "    TP = TP_FN - FN  # TP\n",
    "    \n",
    "    FP_TN = (S == -1).sum() # FP+TN\n",
    "    TN = (Distance_M < -hash_distance_threshold).sum()  # TN\n",
    "    # print('*********', FP_TN, TN)\n",
    "    FP = FP_TN - TN  # FP\n",
    "    \n",
    "    return [TP, FN, FP, TN]"
   ]
  },
  {
   "cell_type": "code",
   "execution_count": 6,
   "metadata": {},
   "outputs": [],
   "source": [
    "# 计算精确率\n",
    "def hash_accuracy(result):\n",
    "    return result[0] / (result[0] + result[2])"
   ]
  },
  {
   "cell_type": "code",
   "execution_count": 7,
   "metadata": {},
   "outputs": [],
   "source": [
    "# 计算召回率\n",
    "def hash_recall(result):\n",
    "    return result[0] / (result[0] + result[1])"
   ]
  },
  {
   "cell_type": "code",
   "execution_count": 8,
   "metadata": {},
   "outputs": [],
   "source": [
    "# 统计topK准确数\n",
    "def topN(df, N=100):\n",
    "    length = len(df)\n",
    "    sumK = 0\n",
    "    recallN = 0\n",
    "    for i in range(length):\n",
    "        topK = df.iloc[i].sort_values().iloc[:N]\n",
    "        R_Num = (df.iloc[i].index == df.iloc[i].name).sum()\n",
    "        T_Num = (topK.index == topK.name).sum()\n",
    "        # print('--',T_Num,'--',R_Num)\n",
    "        sumK += T_Num\n",
    "        recallN += R_Num\n",
    "    return sumK/(length * N), sumK/recallN"
   ]
  },
  {
   "cell_type": "code",
   "execution_count": 9,
   "metadata": {},
   "outputs": [],
   "source": [
    "def PR_Curve(data, typ, Ham_D, y_s, K):\n",
    "    Precision = [1]\n",
    "    Recall = [0]\n",
    "    for hash_threshold in range(K + 1):\n",
    "        result = hash_fast_TP_FN_FP_TN(Ham_D, y_s, hash_distance_threshold=hash_threshold)\n",
    "        Precision.append(hash_accuracy(result))\n",
    "        Recall.append(hash_recall(result))\n",
    "    Precision.append(0)\n",
    "    Recall.append(1)\n",
    "    with open('%sof%s_%s_PR_%s_bit.txt' % (data, typ, datetime.datetime.now().strftime('%Y-%m-%d %H:%M:%S'), K), 'a+') as f:\n",
    "        f.write(\"%s\\n %s \\n\" % (str(Precision), str(Recall)))\n",
    "    print('PR RESULT SUCCESS')"
   ]
  },
  {
   "cell_type": "code",
   "execution_count": 10,
   "metadata": {},
   "outputs": [
    {
     "name": "stdout",
     "output_type": "stream",
     "text": [
      "Under computer the mAP.......\n",
      "/home/yun/work/data/cifar10-models/64/\n"
     ]
    }
   ],
   "source": [
    "bit = [16, 32, 48, 64]\n",
    "dataSet = ['imagenet', 'nus_wide','cifar10']\n",
    "# models = ['cross loss', 'nomal']\n",
    "data = dataSet[2]\n",
    "# typ = models[1]\n",
    "K = bit[3]\n",
    "R = 1000\n",
    "path = '/home/yun/work/data/%s-models/%s/' % (data, K)\n",
    "print('Under computer the mAP.......')\n",
    "print(path)\n",
    "\n",
    "code_and_label = load_code_and_label(path=path)\n",
    "\n",
    "database_code = code_and_label['database_code']\n",
    "validation_code = code_and_label['test_code']\n",
    "database_labels = code_and_label['database_labels']\n",
    "validation_labels = code_and_label['test_labels']"
   ]
  },
  {
   "cell_type": "code",
   "execution_count": 11,
   "metadata": {
    "scrolled": true
   },
   "outputs": [
    {
     "name": "stdout",
     "output_type": "stream",
     "text": [
      "(50000, 64) (10000, 64) (50000, 10) (10000, 10)\n"
     ]
    }
   ],
   "source": [
    "print(database_code.shape, validation_code.shape, database_labels.shape, validation_labels.shape)"
   ]
  },
  {
   "cell_type": "code",
   "execution_count": 12,
   "metadata": {
    "scrolled": true
   },
   "outputs": [],
   "source": [
    "y_s = similarityMatrix(validation_labels, database_labels)"
   ]
  },
  {
   "cell_type": "code",
   "execution_count": 13,
   "metadata": {},
   "outputs": [],
   "source": [
    "Ham_D = HammingDistance(validation_code, database_code)"
   ]
  },
  {
   "cell_type": "code",
   "execution_count": 14,
   "metadata": {},
   "outputs": [
    {
     "data": {
      "text/plain": [
       "[37360983, 12639017, 374798, 449625202]"
      ]
     },
     "execution_count": 14,
     "metadata": {},
     "output_type": "execute_result"
    }
   ],
   "source": [
    "hash_fast_TP_FN_FP_TN(Ham_D, y_s, hash_distance_threshold=2)"
   ]
  },
  {
   "cell_type": "code",
   "execution_count": 15,
   "metadata": {
    "scrolled": false
   },
   "outputs": [
    {
     "name": "stdout",
     "output_type": "stream",
     "text": [
      "PR RESULT SUCCESS\n"
     ]
    }
   ],
   "source": [
    "PR_Curve(data, 'NO', Ham_D, y_s, K)"
   ]
  },
  {
   "cell_type": "code",
   "execution_count": 17,
   "metadata": {},
   "outputs": [],
   "source": [
    "dfH = pd.DataFrame(Ham_D, index=np.argmax(code_and_label['test_labels'], axis=1), columns=np.argmax(code_and_label['database_labels'], axis=1))"
   ]
  },
  {
   "cell_type": "code",
   "execution_count": 19,
   "metadata": {},
   "outputs": [
    {
     "name": "stdout",
     "output_type": "stream",
     "text": [
      "(0.943846, 0.01887692)\n",
      "(0.9437675, 0.0377507)\n",
      "(0.9437573333333333, 0.05662544)\n",
      "(0.94367825, 0.07549426)\n",
      "(0.9436214, 0.09436214)\n",
      "(0.9435781666666667, 0.11322938)\n",
      "(0.9435464285714286, 0.1320965)\n",
      "(0.943524875, 0.15096398)\n",
      "(0.94352, 0.1698336)\n",
      "(0.9435124, 0.18870248)\n",
      "(0.9435026363636364, 0.20757058)\n",
      "(0.9435105, 0.22644252)\n",
      "(0.9435000769230769, 0.24531002)\n",
      "(0.9434911428571429, 0.26417752)\n",
      "(0.9434894, 0.28304682)\n",
      "(0.94348625, 0.3019156)\n",
      "(0.9434359411764706, 0.32076822)\n",
      "(0.9434377222222222, 0.33963758)\n",
      "(0.9434351052631579, 0.35850534)\n",
      "(0.9434246, 0.37736984)\n",
      "[(0.943846, 0.01887692), (0.9437675, 0.0377507), (0.9437573333333333, 0.05662544), (0.94367825, 0.07549426), (0.9436214, 0.09436214), (0.9435781666666667, 0.11322938), (0.9435464285714286, 0.1320965), (0.943524875, 0.15096398), (0.94352, 0.1698336), (0.9435124, 0.18870248), (0.9435026363636364, 0.20757058), (0.9435105, 0.22644252), (0.9435000769230769, 0.24531002), (0.9434911428571429, 0.26417752), (0.9434894, 0.28304682), (0.94348625, 0.3019156), (0.9434359411764706, 0.32076822), (0.9434377222222222, 0.33963758), (0.9434351052631579, 0.35850534), (0.9434246, 0.37736984)]\n"
     ]
    },
    {
     "ename": "TypeError",
     "evalue": "not enough arguments for format string",
     "output_type": "error",
     "traceback": [
      "\u001b[0;31m---------------------------------------------------------------------------\u001b[0m",
      "\u001b[0;31mTypeError\u001b[0m                                 Traceback (most recent call last)",
      "\u001b[0;32m<ipython-input-19-d2c2af20adfb>\u001b[0m in \u001b[0;36m<module>\u001b[0;34m()\u001b[0m\n\u001b[1;32m      5\u001b[0m     \u001b[0mP\u001b[0m\u001b[0;34m.\u001b[0m\u001b[0mappend\u001b[0m\u001b[0;34m(\u001b[0m\u001b[0mprN\u001b[0m\u001b[0;34m)\u001b[0m\u001b[0;34m\u001b[0m\u001b[0m\n\u001b[1;32m      6\u001b[0m \u001b[0mprint\u001b[0m\u001b[0;34m(\u001b[0m\u001b[0mP\u001b[0m\u001b[0;34m)\u001b[0m\u001b[0;34m\u001b[0m\u001b[0m\n\u001b[0;32m----> 7\u001b[0;31m \u001b[0;32mwith\u001b[0m \u001b[0mopen\u001b[0m\u001b[0;34m(\u001b[0m\u001b[0;34m'%sof%s_%s_PTopN_%s_bit.txt'\u001b[0m \u001b[0;34m%\u001b[0m \u001b[0;34m(\u001b[0m\u001b[0mdata\u001b[0m\u001b[0;34m,\u001b[0m \u001b[0mdatetime\u001b[0m\u001b[0;34m.\u001b[0m\u001b[0mdatetime\u001b[0m\u001b[0;34m.\u001b[0m\u001b[0mnow\u001b[0m\u001b[0;34m(\u001b[0m\u001b[0;34m)\u001b[0m\u001b[0;34m.\u001b[0m\u001b[0mstrftime\u001b[0m\u001b[0;34m(\u001b[0m\u001b[0;34m'%Y-%m-%d %H:%M:%S'\u001b[0m\u001b[0;34m)\u001b[0m\u001b[0;34m,\u001b[0m \u001b[0mK\u001b[0m\u001b[0;34m)\u001b[0m\u001b[0;34m,\u001b[0m \u001b[0;34m'a+'\u001b[0m\u001b[0;34m)\u001b[0m \u001b[0;32mas\u001b[0m \u001b[0mf\u001b[0m\u001b[0;34m:\u001b[0m\u001b[0;34m\u001b[0m\u001b[0m\n\u001b[0m\u001b[1;32m      8\u001b[0m         \u001b[0mf\u001b[0m\u001b[0;34m.\u001b[0m\u001b[0mwrite\u001b[0m\u001b[0;34m(\u001b[0m\u001b[0;34m\"%s\\n\"\u001b[0m \u001b[0;34m%\u001b[0m \u001b[0mstr\u001b[0m\u001b[0;34m(\u001b[0m\u001b[0mP\u001b[0m\u001b[0;34m)\u001b[0m\u001b[0;34m)\u001b[0m\u001b[0;34m\u001b[0m\u001b[0m\n\u001b[1;32m      9\u001b[0m \u001b[0mprint\u001b[0m\u001b[0;34m(\u001b[0m\u001b[0;34m'PTopN RESULT SUCCESS'\u001b[0m\u001b[0;34m)\u001b[0m\u001b[0;34m\u001b[0m\u001b[0m\n",
      "\u001b[0;31mTypeError\u001b[0m: not enough arguments for format string"
     ]
    }
   ],
   "source": [
    "P = []\n",
    "for N in range(100, 2001, 100):\n",
    "    prN = topN(dfH, N)\n",
    "    print(prN)\n",
    "    P.append(prN)\n",
    "print(P)\n",
    "with open('%sof%s_%s_PTopN_%s_bit.txt' % (data, datetime.datetime.now().strftime('%Y-%m-%d %H:%M:%S'), K), 'a+') as f:\n",
    "        f.write(\"%s\\n\" % str(P))\n",
    "print('PTopN RESULT SUCCESS')"
   ]
  },
  {
   "cell_type": "code",
   "execution_count": null,
   "metadata": {},
   "outputs": [],
   "source": [
    "dfH.loc[0][0]"
   ]
  },
  {
   "cell_type": "code",
   "execution_count": 16,
   "metadata": {
    "scrolled": false
   },
   "outputs": [
    {
     "name": "stdout",
     "output_type": "stream",
     "text": [
      "16\n",
      "Under computer the mAP.......\n",
      "/home/yun/work/data/cifar10-models/16/\n",
      "0.9548614791179079\n",
      "32\n",
      "Under computer the mAP.......\n",
      "/home/yun/work/data/cifar10-models/32/\n",
      "0.9769535236899393\n",
      "48\n",
      "Under computer the mAP.......\n",
      "/home/yun/work/data/cifar10-models/48/\n",
      "0.9848583452321682\n",
      "64\n",
      "Under computer the mAP.......\n",
      "/home/yun/work/data/cifar10-models/64/\n",
      "0.9900678350873405\n"
     ]
    }
   ],
   "source": [
    "bit = [16, 32, 48, 64]\n",
    "for K in bit:\n",
    "    print(K)\n",
    "    R = 1000\n",
    "    path = '/home/yun/work/data/%s-models/%s/' % (data, K)\n",
    "    print('Under computer the mAP.......')\n",
    "    print(path)\n",
    "\n",
    "    code_and_label = load_code_and_label(path=path)\n",
    "\n",
    "    database_code = code_and_label['database_code']\n",
    "    validation_code = code_and_label['test_code']\n",
    "    database_labels = code_and_label['database_labels']\n",
    "    validation_labels = code_and_label['test_labels']\n",
    "\n",
    "    y_s = similarityMatrix(validation_labels, database_labels)\n",
    "    Ham_D = HammingDistance(validation_code, database_code)\n",
    "\n",
    "    rs = hash_fast_TP_FN_FP_TN(Ham_D, y_s, hash_distance_threshold=2)\n",
    "    print(hash_accuracy(rs))"
   ]
  },
  {
   "cell_type": "code",
   "execution_count": null,
   "metadata": {},
   "outputs": [],
   "source": []
  }
 ],
 "metadata": {
  "kernelspec": {
   "display_name": "Python 3",
   "language": "python",
   "name": "python3"
  },
  "language_info": {
   "codemirror_mode": {
    "name": "ipython",
    "version": 3
   },
   "file_extension": ".py",
   "mimetype": "text/x-python",
   "name": "python",
   "nbconvert_exporter": "python",
   "pygments_lexer": "ipython3",
   "version": "3.6.5"
  }
 },
 "nbformat": 4,
 "nbformat_minor": 2
}
